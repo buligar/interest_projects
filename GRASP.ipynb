{
 "cells": [
  {
   "cell_type": "markdown",
   "id": "199f61b2",
   "metadata": {},
   "source": [
    "Класс - набор данных и методов, имеющих общую целостную хорошо определенную сферу ответственности\n",
    "Метод - отдельная функция или процедура, выполняющая одну четко определенную задачу\n",
    "метод выражает действие, первое слово всегда глагол Пример: sendMessage()\n",
    "вложенность не больше 3-4 уровней\n",
    "выносить числа в константы\n",
    "декомпозиция\n",
    "MVC (Model-View-Controller) - разделяет действия пользователя, данные и интерфейс на три компоненты;\n",
    "инкапсуляция\n",
    "наследование\n",
    "полиморфизм\n",
    "абстракции"
   ]
  },
  {
   "cell_type": "markdown",
   "id": "547343d2",
   "metadata": {},
   "source": [
    "# GRASP"
   ]
  },
  {
   "cell_type": "markdown",
   "id": "c6947c94",
   "metadata": {},
   "source": [
    "(Основные)\n",
    "\n",
    "1. CREATOR - создатель\n",
    "2. CONTROLLER - контроллер\n",
    "3. INFORMATION EXPERT - информационный эксперт\n",
    "4. HIGH COHESION - сильное сцепление\n",
    "5. LOW COUPLING - слабая связанность\n",
    "\n",
    "(дополнительные)\n",
    "\n",
    "6. POLYMORPHISM - полиморфизм\n",
    "7. INDERECTION - перенаправление\n",
    "8. PURE FABRICATION - чистая выдумка\n",
    "9. PROTECTED VARIATIONS - сокрытие реализации"
   ]
  },
  {
   "cell_type": "markdown",
   "id": "73ab4bfa",
   "metadata": {},
   "source": [
    "CREATOR - создатель\n",
    "Задает вопрос \"Кто должен отвечать за создание нового экземпляра некоторого класса?\" и назначает эту обязанность подходящему объекту"
   ]
  },
  {
   "cell_type": "markdown",
   "id": "2c7d21c7",
   "metadata": {},
   "source": [
    "CONTROLLER - контроллер\n",
    "Отвечает за получение и координацию выполнения системных операций, поступающих на уровне интерфейса пользователя"
   ]
  },
  {
   "cell_type": "markdown",
   "id": "9c60b23d",
   "metadata": {},
   "source": [
    "INFORMATION EXPERT - информационный эксперт\n",
    "Занимается поиском объекта, обладающего необходимой информацией о том, как выполнить некоторое действие"
   ]
  },
  {
   "cell_type": "markdown",
   "id": "8c37529c",
   "metadata": {},
   "source": [
    "HIGH COHESION - сильное сцепление\n",
    "Класс содержит сравнительно немного методов\n",
    "методы внутри класса тесно связаны друг с другом\n",
    "методы не выполняют слишком много задач\n",
    "в сложных задачах происходит взаимодействие с другими объектами"
   ]
  },
  {
   "cell_type": "markdown",
   "id": "84aa906a",
   "metadata": {},
   "source": [
    "LOW COUPLING - слабая связанность\n",
    "уменьшение в компоненте знание о других классах\n",
    "максимальная концентрация задачи в одном месте\n",
    "поддержание независимости компонентов системы\n",
    "помощь в выборе решения из нескольких вариантов"
   ]
  },
  {
   "cell_type": "markdown",
   "id": "737dc0e9",
   "metadata": {},
   "source": [
    "POLYMORPHISM - полиморфизм\n",
    "обрабатывет альтернативные варианты поведения объектов на основе типа"
   ]
  },
  {
   "cell_type": "markdown",
   "id": "1579b819",
   "metadata": {},
   "source": [
    "INDERECTION - перенаправление\n",
    "распределяет обязанности для исключения прямой связанности классов, удовлетворяет Low Coupling, улучшает переиспользование"
   ]
  },
  {
   "cell_type": "markdown",
   "id": "b3506a48",
   "metadata": {},
   "source": [
    "PURE FABRICATION - чистая выдумка\n",
    "обеспечивает реализацию принципов проектирования в случае, если один из паттернов начинает противоречить реализуемой концепции"
   ]
  },
  {
   "cell_type": "markdown",
   "id": "975315e7",
   "metadata": {},
   "source": [
    "PROTECTED VARIATIONS - сокрытие реализации\n",
    "проектирует систему так, чтобы изменение ее частей не оказывало нежелательного влияния на другие элементы"
   ]
  },
  {
   "cell_type": "markdown",
   "id": "9f4a4258",
   "metadata": {},
   "source": [
    "# UML\n",
    "## Class"
   ]
  },
  {
   "cell_type": "markdown",
   "id": "c2e6da00",
   "metadata": {},
   "source": [
    "![jupyter](./Jupyter/GRASP/UML_class.jpg)\n"
   ]
  },
  {
   "cell_type": "markdown",
   "id": "84813921",
   "metadata": {},
   "source": [
    "## Абстрактный класс"
   ]
  },
  {
   "cell_type": "markdown",
   "id": "8d63a5ff",
   "metadata": {},
   "source": [
    "![jupyter](./Jupyter/GRASP/UML_abstract_class.jpg)"
   ]
  },
  {
   "cell_type": "markdown",
   "id": "de8ca068",
   "metadata": {},
   "source": [
    "## Интерфейс"
   ]
  },
  {
   "cell_type": "markdown",
   "id": "40873201",
   "metadata": {},
   "source": [
    "![jupyter](./Jupyter/GRASP/UML_interface.jpg)"
   ]
  },
  {
   "cell_type": "markdown",
   "id": "fb76a390",
   "metadata": {},
   "source": [
    "## Комментарии"
   ]
  },
  {
   "cell_type": "markdown",
   "id": "2d04c3a6",
   "metadata": {},
   "source": [
    "![jupyter](./Jupyter/GRASP/UML_comments.jpg)"
   ]
  },
  {
   "cell_type": "markdown",
   "id": "123ae467",
   "metadata": {},
   "source": [
    "## Области видимости"
   ]
  },
  {
   "cell_type": "markdown",
   "id": "1e12111c",
   "metadata": {},
   "source": [
    "![jupyter](./Jupyter/GRASP/UML_area_of_visibility.jpg)"
   ]
  },
  {
   "cell_type": "markdown",
   "id": "69378bee",
   "metadata": {},
   "source": [
    "## Взаимосвязи"
   ]
  },
  {
   "cell_type": "markdown",
   "id": "e5dde600",
   "metadata": {},
   "source": [
    "![jupyter](./Jupyter/GRASP/UML_interconnections.jpg)"
   ]
  },
  {
   "cell_type": "markdown",
   "id": "0093b717",
   "metadata": {},
   "source": [
    "![jupyter](./Jupyter/GRASP/UML_association.jpg)"
   ]
  },
  {
   "cell_type": "markdown",
   "id": "13cb22ad",
   "metadata": {},
   "source": [
    "![jupyter](./Jupyter/GRASP/UML_inheritance.jpg)"
   ]
  },
  {
   "cell_type": "markdown",
   "id": "24b91335",
   "metadata": {},
   "source": [
    "![jupyter](./Jupyter/GRASP/UML_implementation.jpg)"
   ]
  },
  {
   "cell_type": "markdown",
   "id": "c5439286",
   "metadata": {},
   "source": [
    "![jupyter](./Jupyter/GRASP/UML_addiction.jpg)"
   ]
  },
  {
   "cell_type": "markdown",
   "id": "cf15d9a3",
   "metadata": {},
   "source": [
    "![jupyter](./Jupyter/GRASP/UML_aggregation.jpg)"
   ]
  },
  {
   "cell_type": "markdown",
   "id": "319ca6a9",
   "metadata": {},
   "source": [
    "Агрегация - Если контейнер уничтожен, то его содержимое остается существовать"
   ]
  },
  {
   "cell_type": "markdown",
   "id": "d70db756",
   "metadata": {},
   "source": [
    "![jupyter](./Jupyter/GRASP/UML_composition.jpg)"
   ]
  },
  {
   "cell_type": "markdown",
   "id": "66a893d1",
   "metadata": {},
   "source": [
    "Композиция - Если контейнер уничтожен, то включенный объект тоже будет уничтожен"
   ]
  },
  {
   "cell_type": "markdown",
   "id": "5e54dbba",
   "metadata": {},
   "source": [
    "# Диаграмма последовательности"
   ]
  },
  {
   "cell_type": "markdown",
   "id": "818b726e",
   "metadata": {},
   "source": [
    "![jupyter](./Jupyter/GRASP/UML_diagram.jpg)"
   ]
  },
  {
   "cell_type": "code",
   "execution_count": null,
   "id": "b2543f2f",
   "metadata": {},
   "outputs": [],
   "source": []
  }
 ],
 "metadata": {
  "kernelspec": {
   "display_name": "Python 3 (ipykernel)",
   "language": "python",
   "name": "python3"
  },
  "language_info": {
   "codemirror_mode": {
    "name": "ipython",
    "version": 3
   },
   "file_extension": ".py",
   "mimetype": "text/x-python",
   "name": "python",
   "nbconvert_exporter": "python",
   "pygments_lexer": "ipython3",
   "version": "3.9.5"
  }
 },
 "nbformat": 4,
 "nbformat_minor": 5
}
